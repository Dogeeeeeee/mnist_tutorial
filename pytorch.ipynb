{
 "cells": [
  {
   "cell_type": "markdown",
   "metadata": {},
   "source": [
    "# Pytorch Tutorial"
   ]
  },
  {
   "cell_type": "markdown",
   "metadata": {},
   "source": [
    "Pytorch is a popular deep learning framework and it's easy to get started."
   ]
  },
  {
   "cell_type": "code",
   "execution_count": 1,
   "metadata": {},
   "outputs": [],
   "source": [
    "import torch\n",
    "import torch.nn as nn\n",
    "import torch.utils.data as data\n",
    "import torchvision\n",
    "import torch.nn.functional as F\n",
    "import torchvision.transforms as transforms\n",
    "from tqdm import tqdm\n",
    "from torch.autograd import Variable\n",
    "import time\n",
    "\n",
    "DEVICE = torch.device(\"cuda\") \n",
    "BATCH_SIZE = 128\n",
    "EPOCHS = 20\n",
    "LR = 0.001\n",
    "MMT = 0.5"
   ]
  },
  {
   "cell_type": "markdown",
   "metadata": {},
   "source": [
    "First, we read the mnist data, preprocess them and encapsulate them into dataloader form."
   ]
  },
  {
   "cell_type": "code",
   "execution_count": 2,
   "metadata": {},
   "outputs": [],
   "source": [
    "# preprocessing\n",
    "normalize = transforms.Normalize(mean=[.5], std=[.5])\n",
    "transform = transforms.Compose([transforms.ToTensor(), normalize])\n",
    "\n",
    "# download and load the data\n",
    "train_dataset = torchvision.datasets.MNIST(root='./mnist/', train=True, transform=transform, download=True)\n",
    "test_dataset = torchvision.datasets.MNIST(root='./mnist/', train=False, transform=transform, download=False)\n",
    "\n",
    "# encapsulate them into dataloader form\n",
    "train_loader = data.DataLoader(train_dataset, batch_size=BATCH_SIZE, shuffle=True, drop_last=True)\n",
    "test_loader = data.DataLoader(test_dataset, batch_size=BATCH_SIZE, shuffle=False, drop_last=True)"
   ]
  },
  {
   "cell_type": "markdown",
   "metadata": {},
   "source": [
    "Then, we define the model, object function and optimizer that we use to classify."
   ]
  },
  {
   "cell_type": "code",
   "execution_count": 3,
   "metadata": {},
   "outputs": [],
   "source": [
    "class SimpleNet(nn.Module):\n",
    "# TODO:define model\n",
    "\n",
    "    def __init__(self):\n",
    "        super(SimpleNet, self).__init__()\n",
    "        self.conv1 = nn.Conv2d(1, 10, 5)\n",
    "        self.conv2 = nn.Conv2d(10, 20, 5)\n",
    "        self.conv2_drop = nn.Dropout2d()\n",
    "        self.layer1 = nn.Sequential(\n",
    "            nn.Linear(320, 100),\n",
    "            nn.BatchNorm1d(100),\n",
    "            nn.ReLU(True))\n",
    "        self.layer2 = nn.Sequential(\n",
    "            nn.Linear(100, 10))\n",
    "\n",
    "    def forward(self, x):\n",
    "        x = F.relu(F.max_pool2d(self.conv1(x), 2))\n",
    "        x = F.relu(F.max_pool2d(self.conv2_drop(self.conv2(x)), 2))\n",
    "        x = x.view(-1, 320)\n",
    "        x = self.layer1(x)\n",
    "        x = F.dropout(x, training=self.training)\n",
    "        x = self.layer2(x)\n",
    "        return F.log_softmax(x, dim=1)\n",
    "\n",
    "\n",
    "    \n",
    "model = SimpleNet().to(DEVICE)\n",
    "# TODO:define loss function and optimiter\n",
    "criterion = nn.CrossEntropyLoss()\n",
    "optimizer = torch.optim.SGD(model.parameters(), lr=LR, momentum=MMT)"
   ]
  },
  {
   "cell_type": "markdown",
   "metadata": {},
   "source": [
    "Next, we can start to train and evaluate!"
   ]
  },
  {
   "cell_type": "code",
   "execution_count": 4,
   "metadata": {},
   "outputs": [
    {
     "name": "stdout",
     "output_type": "stream",
     "text": [
      "True\n"
     ]
    }
   ],
   "source": [
    "print(torch.cuda.is_available())"
   ]
  },
  {
   "cell_type": "code",
   "execution_count": null,
   "metadata": {
    "scrolled": true
   },
   "outputs": [
    {
     "name": "stdout",
     "output_type": "stream",
     "text": [
      "-------Epoch:1-------\n",
      "test:91.54\n",
      "acc: 97.01\n",
      "-------Epoch:2-------\n",
      "test:91.57\n",
      "acc: 97.12\n",
      "-------Epoch:3-------\n",
      "test:91.79\n",
      "acc: 97.12\n",
      "-------Epoch:4-------\n",
      "test:92.09\n",
      "acc: 97.27\n",
      "-------Epoch:5-------\n",
      "test:92.19\n",
      "acc: 97.23\n",
      "-------Epoch:6-------\n",
      "test:92.46\n",
      "acc: 97.25\n",
      "-------Epoch:7-------\n",
      "test:92.47\n",
      "acc: 97.29\n",
      "-------Epoch:8-------\n",
      "test:92.59\n",
      "acc: 97.39\n",
      "-------Epoch:9-------\n",
      "test:92.82\n",
      "acc: 97.42\n",
      "-------Epoch:10-------\n",
      "test:92.84\n",
      "acc: 97.48\n",
      "-------Epoch:11-------\n",
      "test:92.97\n",
      "acc: 97.47\n",
      "-------Epoch:12-------\n",
      "test:93.13\n",
      "acc: 97.59\n",
      "-------Epoch:13-------\n",
      "test:93.23\n",
      "acc: 97.60\n",
      "-------Epoch:14-------\n",
      "test:93.48\n",
      "acc: 97.55\n",
      "-------Epoch:15-------\n",
      "test:93.45\n",
      "acc: 97.71\n",
      "-------Epoch:16-------\n",
      "test:93.37\n",
      "acc: 97.68\n",
      "-------Epoch:17-------\n",
      "test:93.59\n",
      "acc: 97.75\n",
      "-------Epoch:18-------\n",
      "test:93.64\n",
      "acc: 97.70\n",
      "-------Epoch:19-------\n"
     ]
    }
   ],
   "source": [
    "# train and evaluate\n",
    "def train(model, device, train_loader, optimizer):\n",
    "    model.train()\n",
    "    train_correct = 0.\n",
    "    train_acc =0.\n",
    "    \n",
    "    for batch_idx, (data, target) in enumerate(train_loader):\n",
    "        data, target = data.to(device), target.to(device)\n",
    "        optimizer.zero_grad()\n",
    "        output = model(data)\n",
    "        pred = torch.max(output, 1)[1]\n",
    "        train_correct = (pred == target).sum()\n",
    "        train_acc += (train_correct.item() / 6)\n",
    "        loss = F.nll_loss(output, target)\n",
    "        loss.backward()\n",
    "        optimizer.step()\n",
    "\n",
    "    print('test:{:.2f}'.format(100. * train_acc / len(test_loader.dataset)))\n",
    "\n",
    "\n",
    "def test(model, device, test_loader):\n",
    "    model.eval()\n",
    "    test_loss = 0\n",
    "    correct = 0\n",
    "    with torch.no_grad():\n",
    "        for data, target in test_loader:\n",
    "            data, target = data.to(device), target.to(device)\n",
    "            output = model(data)\n",
    "            pred = output.max(1, keepdim=True)[1]\n",
    "            correct += pred.eq(target.view_as(pred)).sum().item()\n",
    "    print('acc: {:.2f}'.format(100. * correct / len(test_loader.dataset)))\n",
    "\n",
    "for epoch in range(1, EPOCHS + 1):\n",
    "    print(\"-------Epoch:{}-------\".format(epoch))\n",
    "    train(model, DEVICE, train_loader, optimizer)\n",
    "    test(model, DEVICE, test_loader)"
   ]
  },
  {
   "cell_type": "code",
   "execution_count": 20,
   "metadata": {},
   "outputs": [
    {
     "data": {
      "text/plain": [
       "10000"
      ]
     },
     "execution_count": 20,
     "metadata": {},
     "output_type": "execute_result"
    }
   ],
   "source": [
    "len(test_loader.dataset)"
   ]
  },
  {
   "cell_type": "markdown",
   "metadata": {},
   "source": [
    "#### Q5:\n",
    "Please print the training and testing accuracy."
   ]
  }
 ],
 "metadata": {
  "kernelspec": {
   "display_name": "Python 3",
   "language": "python",
   "name": "python3"
  },
  "language_info": {
   "codemirror_mode": {
    "name": "ipython",
    "version": 3
   },
   "file_extension": ".py",
   "mimetype": "text/x-python",
   "name": "python",
   "nbconvert_exporter": "python",
   "pygments_lexer": "ipython3",
   "version": "3.7.4"
  }
 },
 "nbformat": 4,
 "nbformat_minor": 2
}
